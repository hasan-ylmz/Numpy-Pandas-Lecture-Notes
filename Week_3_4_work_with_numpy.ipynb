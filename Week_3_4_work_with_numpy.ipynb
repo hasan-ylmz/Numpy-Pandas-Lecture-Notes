{
  "nbformat": 4,
  "nbformat_minor": 0,
  "metadata": {
    "colab": {
      "provenance": []
    },
    "kernelspec": {
      "name": "python3",
      "display_name": "Python 3"
    },
    "language_info": {
      "name": "python"
    }
  },
  "cells": [
    {
      "cell_type": "markdown",
      "source": [
        "1. Dizi kopyala\n",
        "2. Diziye eleman ekleme ve silme\n",
        "3. Boyut öğrenme ve şekil  değiştirme\n",
        "4. Dizi yazdırma (döngülerlerle )\n",
        "5. Hızlı dizi oluşturma (inspace ,zeros , ones , enty )\n",
        "6.Rastgele sayılardan dizi oluşturma\n",
        "7. Matematiksel işlemler\n",
        "8. Koşula göre dizi belirleme\n",
        "9.Dizileri birleştirme ve bölme *italik metin*"
      ],
      "metadata": {
        "id": "YFkU_K94CeMG"
      }
    },
    {
      "cell_type": "code",
      "execution_count": null,
      "metadata": {
        "id": "HVH2Tp3nCYam"
      },
      "outputs": [],
      "source": [
        "import  numpy as np"
      ]
    },
    {
      "cell_type": "markdown",
      "source": [
        "1. Dizi kopyala\n"
      ],
      "metadata": {
        "id": "7uCn2xuXExin"
      }
    },
    {
      "cell_type": "code",
      "source": [
        "d1 = np.array([1,2,3,4,5,6])\n",
        "d2= d1.copy() #d1 değişirse değişir .\n",
        "d3 = d1.view() #d1 değişirse değişmez.\n",
        "print(\"Copy ile çoğaltılan None {0} döndürür .\".format(d2.base))\n",
        "print(\"view ile çoğaltılan  değer  {0} döndürür .\".format(d2.base))\n",
        "\n",
        "\n"
      ],
      "metadata": {
        "colab": {
          "base_uri": "https://localhost:8080/"
        },
        "id": "RASDa70ZE3bt",
        "outputId": "0997f074-b940-4af1-9b50-7aa86ebe4515"
      },
      "execution_count": null,
      "outputs": [
        {
          "output_type": "stream",
          "name": "stdout",
          "text": [
            "Copy ile çoğaltılan None None döndürür .\n",
            "view ile çoğaltılan  değer  None döndürür .\n"
          ]
        }
      ]
    },
    {
      "cell_type": "code",
      "source": [
        "d1[0] =5 #d1 değişince\n",
        "print(\"copy ile değiştirilen (0) değişmez\".format(d2))\n",
        "print(\"view ile değiştirilen (0) değişir\".format(d3))\n"
      ],
      "metadata": {
        "colab": {
          "base_uri": "https://localhost:8080/"
        },
        "id": "faTnRBLjUZSQ",
        "outputId": "47f62dc7-229a-4b78-a128-a412d132f2f4"
      },
      "execution_count": null,
      "outputs": [
        {
          "output_type": "stream",
          "name": "stdout",
          "text": [
            "copy ile değiştirilen (0) değişmez\n",
            "view ile değiştirilen (0) değişir\n"
          ]
        }
      ]
    },
    {
      "cell_type": "markdown",
      "source": [
        "2 . Diziye eleman ekleme veya silme\n"
      ],
      "metadata": {
        "id": "i0EIWuMEVJQt"
      }
    },
    {
      "cell_type": "code",
      "source": [
        "d4=np.array([1,2,3,4,5,6])\n",
        "print(d4)"
      ],
      "metadata": {
        "colab": {
          "base_uri": "https://localhost:8080/"
        },
        "id": "pWnzBhe5VIII",
        "outputId": "a3a4e490-352b-4f41-daee-cd238a13c041"
      },
      "execution_count": null,
      "outputs": [
        {
          "output_type": "stream",
          "name": "stdout",
          "text": [
            "[1 2 3 4 5 6]\n"
          ]
        }
      ]
    },
    {
      "cell_type": "code",
      "source": [
        "# tek boyutlu diziye ekleme\n",
        "d4 = np.append(d4, [7,8]) # sona ekler\n",
        "# tek  boyutlu diziden silme\n",
        "d4 = np.delete(d4, 2) # 2 nolu indeksten sil\n",
        "print(d4)\n"
      ],
      "metadata": {
        "colab": {
          "base_uri": "https://localhost:8080/"
        },
        "id": "jmv9mOrlVx5W",
        "outputId": "7ca2bf8f-44dd-4a3b-b70d-41e4df508703"
      },
      "execution_count": null,
      "outputs": [
        {
          "output_type": "stream",
          "name": "stdout",
          "text": [
            "[1 2 4 5 6 7 8]\n"
          ]
        }
      ]
    },
    {
      "cell_type": "code",
      "source": [
        "# çok boyutlu diziye eleman ekleme\n",
        "d5 = np.array([ [1,2], [3,4] ])\n",
        "print(d5)"
      ],
      "metadata": {
        "id": "6iQZLworXwH3"
      },
      "execution_count": null,
      "outputs": []
    },
    {
      "cell_type": "code",
      "source": [
        "d5  = np.append(d5, [[5,6]] ,axis=0 ) # satır olarak ekler\n",
        "print(d5)"
      ],
      "metadata": {
        "colab": {
          "base_uri": "https://localhost:8080/"
        },
        "id": "pPMZKC2zXun-",
        "outputId": "fd816654-00dc-4df4-a249-3c11a303d0f9"
      },
      "execution_count": null,
      "outputs": [
        {
          "output_type": "stream",
          "name": "stdout",
          "text": [
            "[[1 2]\n",
            " [3 4]\n",
            " [5 6]]\n"
          ]
        }
      ]
    },
    {
      "cell_type": "code",
      "source": [
        "d6= np.array([[1,2,3],[4,5,6]])\n",
        "print(d6)"
      ],
      "metadata": {
        "colab": {
          "base_uri": "https://localhost:8080/"
        },
        "id": "Boe0VDFIZEfo",
        "outputId": "0faf0ed3-8c2a-4b23-83df-7a3d6a662501"
      },
      "execution_count": null,
      "outputs": [
        {
          "output_type": "stream",
          "name": "stdout",
          "text": [
            "[[1 2 3]\n",
            " [4 5 6]]\n"
          ]
        }
      ]
    },
    {
      "cell_type": "code",
      "source": [
        "d6 = np.append(d6, [[7] , [8]], axis=1) #sütun olarak ekler\n",
        "print(d6)"
      ],
      "metadata": {
        "colab": {
          "base_uri": "https://localhost:8080/"
        },
        "id": "xezhyp_qXus3",
        "outputId": "70eab1fe-69df-4d57-a006-cdbb4b84e510"
      },
      "execution_count": null,
      "outputs": [
        {
          "output_type": "stream",
          "name": "stdout",
          "text": [
            "[[1 2 3 7 7 7 7 7 7]\n",
            " [4 5 6 8 8 8 8 8 8]]\n"
          ]
        }
      ]
    },
    {
      "cell_type": "code",
      "source": [
        "# çok boyutlu dizi eleman silme\n",
        "d7 = np.array([[1,2],[3,4],[5,6]])\n",
        "print(d7)\n",
        "print(\"***************\")\n",
        "d7 = np.delete(d7 , 1 , axis=0 ) #1 .satırı sil\n",
        "print(d7)"
      ],
      "metadata": {
        "colab": {
          "base_uri": "https://localhost:8080/"
        },
        "id": "pe4uqxg2aNQ-",
        "outputId": "52c06bbe-42a0-404f-d7d7-168e574602c2"
      },
      "execution_count": null,
      "outputs": [
        {
          "output_type": "stream",
          "name": "stdout",
          "text": [
            "[[1 2]\n",
            " [3 4]\n",
            " [5 6]]\n",
            "***************\n",
            "[[1 2]\n",
            " [5 6]]\n"
          ]
        }
      ]
    },
    {
      "cell_type": "code",
      "source": [
        "# çok boyutlu eleman dizi silme\n",
        "d8 = np.array([[1,2] ,[3,4], [5,6]])\n",
        "print(d8)\n",
        "\n",
        "print(\"**************\")\n",
        "d8 = np.delete(d8 , 0, axis=1) # 1.sütunu sil\n",
        "print(d8)"
      ],
      "metadata": {
        "colab": {
          "base_uri": "https://localhost:8080/"
        },
        "id": "-VLzfI1Fas1m",
        "outputId": "6cb5e099-0b9d-4ac5-ad70-b362a4ad3c35"
      },
      "execution_count": null,
      "outputs": [
        {
          "output_type": "stream",
          "name": "stdout",
          "text": [
            "[[1 2]\n",
            " [3 4]\n",
            " [5 6]]\n",
            "**************\n",
            "[[2]\n",
            " [4]\n",
            " [6]]\n"
          ]
        }
      ]
    },
    {
      "cell_type": "markdown",
      "source": [
        "3.Boyut ve şekil öğrenme"
      ],
      "metadata": {
        "id": "Sh7Y-N7kbwr_"
      }
    },
    {
      "cell_type": "code",
      "source": [
        "# boyut (size) ve şekil (shape ) öğrenme\n",
        "d9 = np.array([1,2,3,4,5,6,7,8])\n",
        "print(\"dizi boyutu {0} \".format(d9.size))\n",
        "print(\"dizi şekli {0} \".format(d9.shape))"
      ],
      "metadata": {
        "colab": {
          "base_uri": "https://localhost:8080/"
        },
        "id": "bp70K9hfcz0n",
        "outputId": "e8a6b193-8bbd-4688-b1f4-3ffcf4d8939c"
      },
      "execution_count": null,
      "outputs": [
        {
          "output_type": "stream",
          "name": "stdout",
          "text": [
            "dizi boyutu 8 \n",
            "dizi şekli (8,) \n"
          ]
        }
      ]
    },
    {
      "cell_type": "code",
      "source": [
        "#yeniden şekillendirme\n",
        "d9.reshape(2,4) # 2×4 matris\n",
        "print(d9) # değişmez"
      ],
      "metadata": {
        "colab": {
          "base_uri": "https://localhost:8080/"
        },
        "id": "CFuE1NmZdzYH",
        "outputId": "c3798027-c9ad-496e-de7c-075645a11ab5"
      },
      "execution_count": null,
      "outputs": [
        {
          "output_type": "stream",
          "name": "stdout",
          "text": [
            "[1 2 3 4 5 6 7 8]\n"
          ]
        }
      ]
    },
    {
      "cell_type": "code",
      "source": [
        "d9 = d9.reshape(8,)\n",
        "print(d9)"
      ],
      "metadata": {
        "colab": {
          "base_uri": "https://localhost:8080/"
        },
        "id": "Xllt6U34ePbW",
        "outputId": "14bbff06-f405-4987-c88e-da15bc773812"
      },
      "execution_count": null,
      "outputs": [
        {
          "output_type": "stream",
          "name": "stdout",
          "text": [
            "[1 2 3 4 5 6 7 8]\n"
          ]
        }
      ]
    },
    {
      "cell_type": "code",
      "source": [
        "d9 = d9.reshape(4,2)\n",
        "print(d9)"
      ],
      "metadata": {
        "colab": {
          "base_uri": "https://localhost:8080/"
        },
        "id": "DgJ50X6zePI2",
        "outputId": "c64e9da5-d96a-47a8-c595-daa380bcec66"
      },
      "execution_count": null,
      "outputs": [
        {
          "output_type": "stream",
          "name": "stdout",
          "text": [
            "[[1 2]\n",
            " [3 4]\n",
            " [5 6]\n",
            " [7 8]]\n"
          ]
        }
      ]
    },
    {
      "cell_type": "code",
      "source": [
        "# boyut değiştirme\n",
        "d10 = np.array([1,2,3,4,5,6])\n",
        "print(\"d10 dizisi {0} ve boyutu {1} \".format(d10,d10.size))"
      ],
      "metadata": {
        "colab": {
          "base_uri": "https://localhost:8080/"
        },
        "id": "LJRKovlRe1Im",
        "outputId": "96a39585-654c-435d-914b-f1df48dd332e"
      },
      "execution_count": null,
      "outputs": [
        {
          "output_type": "stream",
          "name": "stdout",
          "text": [
            "d10 dizisi [1 2 3 4 5 6] ve boyutu 6 \n"
          ]
        }
      ]
    },
    {
      "cell_type": "code",
      "source": [
        "d10 =np.resize(d10,(2,3))\n",
        "print(\"d10 dizisi {0} ve boyutu {1}\".format(d10,d10.size))"
      ],
      "metadata": {
        "colab": {
          "base_uri": "https://localhost:8080/"
        },
        "id": "wYxj5B68e1lG",
        "outputId": "88bcea25-03bd-40cb-8a25-9a51a2809da4"
      },
      "execution_count": null,
      "outputs": [
        {
          "output_type": "stream",
          "name": "stdout",
          "text": [
            "d10 dizisi [[1 2 3]\n",
            " [4 5 6]] ve boyutu 6\n"
          ]
        }
      ]
    },
    {
      "cell_type": "markdown",
      "source": [
        "***reshape*** metodu diziyi yeniden boyutlamamızı  sağlar fakat  dizide  kalıcı değişiklik yapmaz , başka bir değişkende tutmamız gerekir . Dizide kalıcı şekilde bir boyut değişikliği yapılmak istendiğinde ***resize*** metodu kullanılabilir ."
      ],
      "metadata": {
        "id": "RaNrw0VKgugO"
      }
    },
    {
      "cell_type": "markdown",
      "source": [
        "4 .Dizi yazdırma(döngülerle)"
      ],
      "metadata": {
        "id": "ByFSmj6ehstN"
      }
    },
    {
      "cell_type": "code",
      "source": [
        "d11= np.array([1,2,3,4,5,6])\n",
        "for i in d11:\n",
        "  print(i)"
      ],
      "metadata": {
        "colab": {
          "base_uri": "https://localhost:8080/"
        },
        "id": "3-pdCF9xgwUV",
        "outputId": "c3588521-071c-4e6a-8271-1f7a932262d9"
      },
      "execution_count": null,
      "outputs": [
        {
          "output_type": "stream",
          "name": "stdout",
          "text": [
            "1\n",
            "2\n",
            "3\n",
            "4\n",
            "5\n",
            "6\n"
          ]
        }
      ]
    },
    {
      "cell_type": "code",
      "source": [
        "d12 = np.array([[1,2,3],[4,5,6]])\n",
        "for i in d12:\n",
        "  for x in i:\n",
        "    print(x)"
      ],
      "metadata": {
        "colab": {
          "base_uri": "https://localhost:8080/"
        },
        "id": "JVgy6nzOiVkV",
        "outputId": "f7bc2563-0a14-43f1-fab3-9bcf243d96b9"
      },
      "execution_count": null,
      "outputs": [
        {
          "output_type": "stream",
          "name": "stdout",
          "text": [
            "1\n",
            "2\n",
            "3\n",
            "4\n",
            "5\n",
            "6\n"
          ]
        }
      ]
    },
    {
      "cell_type": "markdown",
      "source": [
        "For döngüsü yerine elemanları tek tek yazdımak yerine daha pratik bir yolu var ."
      ],
      "metadata": {
        "id": "2ltV6WvLVNbk"
      }
    },
    {
      "cell_type": "code",
      "source": [
        "for i in np.nditer(d12)\n",
        "  print(i)"
      ],
      "metadata": {
        "id": "zjMCXLkqgjYu",
        "colab": {
          "base_uri": "https://localhost:8080/",
          "height": 130
        },
        "outputId": "ba3cfd2e-16d6-46de-fe55-70c71fcd40c0"
      },
      "execution_count": null,
      "outputs": [
        {
          "output_type": "error",
          "ename": "SyntaxError",
          "evalue": "ignored",
          "traceback": [
            "\u001b[0;36m  File \u001b[0;32m\"<ipython-input-12-b349112462a9>\"\u001b[0;36m, line \u001b[0;32m1\u001b[0m\n\u001b[0;31m    for i in np.nditer(d12)\u001b[0m\n\u001b[0m                           ^\u001b[0m\n\u001b[0;31mSyntaxError\u001b[0m\u001b[0;31m:\u001b[0m expected ':'\n"
          ]
        }
      ]
    },
    {
      "cell_type": "markdown",
      "source": [
        "5 .Hızlı dizi oluşturma (linspace , arrange , zeros , one , emty)\n"
      ],
      "metadata": {
        "id": "mz2HSzojV8BC"
      }
    },
    {
      "cell_type": "code",
      "source": [
        "d13 = np.linspace(1,10,3) #1 den 10 a kadar 3 elemanlı bir dizi oluşturur .\n",
        "print(d13)"
      ],
      "metadata": {
        "colab": {
          "base_uri": "https://localhost:8080/"
        },
        "id": "VW3Yj4xFV3cm",
        "outputId": "bfa8a1a0-3b94-464c-8c0a-ee8a94d76e34"
      },
      "execution_count": null,
      "outputs": [
        {
          "output_type": "stream",
          "name": "stdout",
          "text": [
            "[ 1.   5.5 10. ]\n"
          ]
        }
      ]
    },
    {
      "cell_type": "code",
      "source": [
        "d14 = np.arange(1,15,4) # 1 den  15 e kadar (15 dahil değil) 4 artarak bir dizi oluştur.\n",
        "print(d14)"
      ],
      "metadata": {
        "colab": {
          "base_uri": "https://localhost:8080/"
        },
        "id": "VxCknrv9WzZ4",
        "outputId": "d2bab899-0575-4171-968b-8ff37e05c045"
      },
      "execution_count": null,
      "outputs": [
        {
          "output_type": "stream",
          "name": "stdout",
          "text": [
            "[ 1  5  9 13]\n"
          ]
        }
      ]
    },
    {
      "cell_type": "code",
      "source": [
        "d15 = np.zeros((2,3))  # 0 değerlerinden oluşan 2×3 lü bir dizi\n",
        "print(d15)"
      ],
      "metadata": {
        "colab": {
          "base_uri": "https://localhost:8080/"
        },
        "id": "4RjoEYwjZNjG",
        "outputId": "0fc1315b-cf8e-487b-ce4a-1c1f31ac1b5d"
      },
      "execution_count": null,
      "outputs": [
        {
          "output_type": "error",
          "ename": "NameError",
          "evalue": "ignored",
          "traceback": [
            "\u001b[0;31m---------------------------------------------------------------------------\u001b[0m",
            "\u001b[0;31mNameError\u001b[0m                                 Traceback (most recent call last)",
            "\u001b[0;32m<ipython-input-1-50d3f7fa4a15>\u001b[0m in \u001b[0;36m<cell line: 1>\u001b[0;34m()\u001b[0m\n\u001b[0;32m----> 1\u001b[0;31m \u001b[0md15\u001b[0m \u001b[0;34m=\u001b[0m \u001b[0mnp\u001b[0m\u001b[0;34m.\u001b[0m\u001b[0mzeros\u001b[0m\u001b[0;34m(\u001b[0m\u001b[0;34m(\u001b[0m\u001b[0;36m2\u001b[0m\u001b[0;34m,\u001b[0m\u001b[0;36m3\u001b[0m\u001b[0;34m)\u001b[0m\u001b[0;34m)\u001b[0m  \u001b[0;31m# 0 değerlerinden oluşan 2×3 lü bir dizi\u001b[0m\u001b[0;34m\u001b[0m\u001b[0;34m\u001b[0m\u001b[0m\n\u001b[0m\u001b[1;32m      2\u001b[0m \u001b[0mprint\u001b[0m\u001b[0;34m(\u001b[0m\u001b[0md15\u001b[0m\u001b[0;34m)\u001b[0m\u001b[0;34m\u001b[0m\u001b[0;34m\u001b[0m\u001b[0m\n",
            "\u001b[0;31mNameError\u001b[0m: name 'np' is not defined"
          ]
        }
      ]
    },
    {
      "cell_type": "code",
      "source": [
        "d16 = np.ones((3,2)) # 1 değerlerinden oluşan 3×2 bir dizi\n",
        "print(d16)"
      ],
      "metadata": {
        "colab": {
          "base_uri": "https://localhost:8080/"
        },
        "id": "JzvEtwLqZUlP",
        "outputId": "dcf37d39-04f9-4b41-be12-5a406205a9bc"
      },
      "execution_count": null,
      "outputs": [
        {
          "output_type": "stream",
          "name": "stdout",
          "text": [
            "[[1. 1.]\n",
            " [1. 1.]\n",
            " [1. 1.]]\n"
          ]
        }
      ]
    },
    {
      "cell_type": "code",
      "source": [
        "d17 = np.empty((4,4)) #boş değerlerden oluşan oluşan (aslında boş değil) 4×4  bir dizi oluşturur .\n",
        "print(d17)"
      ],
      "metadata": {
        "colab": {
          "base_uri": "https://localhost:8080/"
        },
        "id": "rVVV0aWpbXFl",
        "outputId": "f33fde43-0c06-4375-8da8-744d2ce3f1e5"
      },
      "execution_count": null,
      "outputs": [
        {
          "output_type": "stream",
          "name": "stdout",
          "text": [
            "[[2.33095271e-316 0.00000000e+000 2.41907520e-312 2.37663529e-312]\n",
            " [2.22809558e-312 2.46151512e-312 6.79038654e-313 2.35541533e-312]\n",
            " [2.46151512e-312 6.79038654e-313 2.35541533e-312 6.79038654e-313]\n",
            " [2.14321575e-312 2.22809558e-312 2.14321575e-312 2.25064900e-153]]\n"
          ]
        }
      ]
    },
    {
      "cell_type": "markdown",
      "source": [
        "6 . Rastgele sayılaradn oluşan dizi oluşturma\n"
      ],
      "metadata": {
        "id": "xmvgAsbzd7a3"
      }
    },
    {
      "cell_type": "code",
      "source": [
        "r1 = np.random.rand(3,4) # 3×4 rastgele bir dizi\n",
        "print(r1)"
      ],
      "metadata": {
        "id": "iBgxVe21eYJC"
      },
      "execution_count": null,
      "outputs": []
    },
    {
      "cell_type": "code",
      "source": [
        "r2 = np.random.randn(3,2) # 3×2 rastgele normal dağılımlı dizi\n",
        "print(r2)"
      ],
      "metadata": {
        "colab": {
          "base_uri": "https://localhost:8080/"
        },
        "id": "yg8HCmuwemxp",
        "outputId": "6b5163cf-1169-4350-ef7c-f781d3475479"
      },
      "execution_count": null,
      "outputs": [
        {
          "output_type": "stream",
          "name": "stdout",
          "text": [
            "[[ 1.23465273 -0.51560421]\n",
            " [-1.50090355 -0.17143376]\n",
            " [ 1.66085254  0.82758133]]\n"
          ]
        }
      ]
    },
    {
      "cell_type": "code",
      "source": [
        "r4  = np.random.randint(0,10,(4,4)) # 1 ile 10 arasında int türünde 4×4 bir dizi\n",
        "print(r4)"
      ],
      "metadata": {
        "id": "LDygGutO2HVL"
      },
      "execution_count": null,
      "outputs": []
    },
    {
      "cell_type": "markdown",
      "source": [
        "7 .matematiksel işlemler"
      ],
      "metadata": {
        "id": "gECyo6lJ2KSZ"
      }
    },
    {
      "cell_type": "code",
      "source": [
        "m1 = np.array([1,2,3])\n",
        "m2 = np.array([4,5,6])\n",
        "print(m1)\n",
        "print(m2)"
      ],
      "metadata": {
        "colab": {
          "base_uri": "https://localhost:8080/"
        },
        "id": "cWVmZqPi2Un3",
        "outputId": "95a80e27-9d6e-4ba4-803f-09c23c444647"
      },
      "execution_count": null,
      "outputs": [
        {
          "output_type": "stream",
          "name": "stdout",
          "text": [
            "[1 2 3]\n",
            "[4 5 6]\n"
          ]
        }
      ]
    },
    {
      "cell_type": "code",
      "source": [
        "to = m1 +m2\n",
        "cı = m1-m2\n",
        "car = m1*m2\n",
        "bol = m1/m2\n",
        "print(\" m1 ve m2 toplamı {0} Farkı {1} ,Çarpan {2} Bölme {3}\".format(to,cı,car,bol)  )"
      ],
      "metadata": {
        "colab": {
          "base_uri": "https://localhost:8080/"
        },
        "id": "pGZ_O9D-24Mb",
        "outputId": "21f8e1e2-9a29-4b2f-e86a-c8f12040ca57"
      },
      "execution_count": null,
      "outputs": [
        {
          "output_type": "stream",
          "name": "stdout",
          "text": [
            " m1 ve m2 toplamı [5 7 9] Farkı [-3 -3 -3] ,Çarpan [ 4 10 18] Bölme [0.25 0.4  0.5 ]\n"
          ]
        }
      ]
    },
    {
      "cell_type": "code",
      "source": [
        "kk = np.sqrt(m1)\n",
        "kup = np.power(m1 ,3)\n",
        "ort = np.mean(m1)\n",
        "med = np.median(m1)\n",
        "print(\"m1 ;  karekök {0} küp{1} , ortalama {2} , median {3}\".format(kk,kup,ort,med))"
      ],
      "metadata": {
        "colab": {
          "base_uri": "https://localhost:8080/"
        },
        "id": "e4I2YBBz3wZs",
        "outputId": "ca7bfb27-746f-4f35-fbe4-d702a2b8bb0d"
      },
      "execution_count": null,
      "outputs": [
        {
          "output_type": "stream",
          "name": "stdout",
          "text": [
            "m1 ;  karekök [1.         1.41421356 1.73205081] küp[ 1  8 27] , ortalama 2.0 , median 2.0\n"
          ]
        }
      ]
    },
    {
      "cell_type": "markdown",
      "source": [
        "8 .Koşula göre dizi birleştirme"
      ],
      "metadata": {
        "id": "Msz4duGF46Am"
      }
    },
    {
      "cell_type": "code",
      "source": [
        "dz1  = np.array([1,2,3,4,5,6,7,8,9,10,11,12,13,14,15])\n",
        "print(dz1[(dz1>-1) & (dz1<5)])\n",
        "print(dz1[(dz1<3) | (dz1>7)])\n",
        "print(dz1[((dz1<3) | (dz1>7) ) &  ((dz1> -1)&(dz1<11))])"
      ],
      "metadata": {
        "id": "TrXiLx7k9VM_"
      },
      "execution_count": null,
      "outputs": []
    },
    {
      "cell_type": "code",
      "source": [
        "dz1[dz1%2==0]"
      ],
      "metadata": {
        "colab": {
          "base_uri": "https://localhost:8080/"
        },
        "id": "4_MvlDG_9V8H",
        "outputId": "b7e07b2d-bc9e-4086-9729-5113a800db88"
      },
      "execution_count": null,
      "outputs": [
        {
          "output_type": "execute_result",
          "data": {
            "text/plain": [
              "array([ 2,  4,  6,  8, 10, 12, 14])"
            ]
          },
          "metadata": {},
          "execution_count": 4
        }
      ]
    },
    {
      "cell_type": "markdown",
      "source": [
        "9 :Dizileri birleştirme ve bölme"
      ],
      "metadata": {
        "id": "GpdsPqUe9drU"
      }
    },
    {
      "cell_type": "code",
      "source": [
        "a = np.array([[1,2,3] , [4,5,6]])\n",
        "b= np.array([[7,8,9] ,[10,11,12]])\n",
        "c= np.concatenate((a,b) ,axis=0) # satırda birleştir alt alta\n",
        "d= np.concatenate((a,b), axis=1) # sütunda birleştir yan yana\n",
        "print(c)\n",
        "print(d)"
      ],
      "metadata": {
        "colab": {
          "base_uri": "https://localhost:8080/"
        },
        "id": "_J4ajm2i9jHe",
        "outputId": "904f53e5-189a-4d1f-ff75-027f3b9d68ed"
      },
      "execution_count": null,
      "outputs": [
        {
          "output_type": "stream",
          "name": "stdout",
          "text": [
            "[[ 1  2  3]\n",
            " [ 4  5  6]\n",
            " [ 7  8  9]\n",
            " [10 11 12]]\n",
            "[[ 1  2  3  7  8  9]\n",
            " [ 4  5  6 10 11 12]]\n"
          ]
        }
      ]
    },
    {
      "cell_type": "code",
      "source": [
        "e = np.array([1,2,3,4,5,6,7,8])\n",
        "f = np.split(e,2,axis=0)\n",
        "print(f)"
      ],
      "metadata": {
        "colab": {
          "base_uri": "https://localhost:8080/"
        },
        "id": "kxaSOVCg_av0",
        "outputId": "95b8e522-bf21-4fc0-d6a4-298f07a7cb67"
      },
      "execution_count": null,
      "outputs": [
        {
          "output_type": "stream",
          "name": "stdout",
          "text": [
            "[array([1, 2, 3, 4]), array([5, 6, 7, 8])]\n"
          ]
        }
      ]
    },
    {
      "cell_type": "code",
      "source": [
        "e = np.array([[1,2,3,4] , [5,6,7,8]])\n",
        "f= np.split(e,2,axis=1)\n",
        "print(e)\n",
        "print(f)"
      ],
      "metadata": {
        "colab": {
          "base_uri": "https://localhost:8080/"
        },
        "id": "g--A5qHh-4MP",
        "outputId": "ebc435ee-24ae-47c3-cca3-835ae26a30db"
      },
      "execution_count": null,
      "outputs": [
        {
          "output_type": "stream",
          "name": "stdout",
          "text": [
            "[[1 2 3 4]\n",
            " [5 6 7 8]]\n",
            "[array([[1, 2],\n",
            "       [5, 6]]), array([[3, 4],\n",
            "       [7, 8]])]\n"
          ]
        }
      ]
    },
    {
      "cell_type": "code",
      "source": [],
      "metadata": {
        "id": "5Vlj4eNdAMIo"
      },
      "execution_count": null,
      "outputs": []
    }
  ]
}