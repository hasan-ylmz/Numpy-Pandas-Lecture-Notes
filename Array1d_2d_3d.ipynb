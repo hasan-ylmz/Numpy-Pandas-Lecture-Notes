{
  "nbformat": 4,
  "nbformat_minor": 0,
  "metadata": {
    "colab": {
      "provenance": []
    },
    "kernelspec": {
      "name": "python3",
      "display_name": "Python 3"
    },
    "language_info": {
      "name": "python"
    }
  },
  "cells": [
    {
      "cell_type": "code",
      "execution_count": null,
      "metadata": {
        "id": "ahOyAaMe2zJ7"
      },
      "outputs": [],
      "source": [
        "import numpy as np"
      ]
    },
    {
      "cell_type": "code",
      "source": [
        "arr_1d= np.array([1,2,3])\n",
        "arr_2d = np.array([[1,2,3],[4,5,6]])\n",
        "arr_3d = np.array([[[1,2,3],[4,5,6]], [[7,8,9],[10,11,12]]])"
      ],
      "metadata": {
        "id": "mbJd1rb82_iG"
      },
      "execution_count": null,
      "outputs": []
    },
    {
      "cell_type": "code",
      "source": [
        "print(arr_3d.ndim)"
      ],
      "metadata": {
        "colab": {
          "base_uri": "https://localhost:8080/"
        },
        "id": "Kq0TDVXu3hxz",
        "outputId": "74bc8995-b462-485e-e9e6-b894b57b262f"
      },
      "execution_count": null,
      "outputs": [
        {
          "output_type": "stream",
          "name": "stdout",
          "text": [
            "3\n"
          ]
        }
      ]
    },
    {
      "cell_type": "code",
      "source": [
        "print(arr_3d.shape)"
      ],
      "metadata": {
        "colab": {
          "base_uri": "https://localhost:8080/"
        },
        "id": "szE-jNPQ3o-n",
        "outputId": "b144aad4-070c-47c0-a4a2-16141b183529"
      },
      "execution_count": null,
      "outputs": [
        {
          "output_type": "stream",
          "name": "stdout",
          "text": [
            "(2, 2, 3)\n"
          ]
        }
      ]
    },
    {
      "cell_type": "code",
      "source": [
        "print(arr_3d.size)"
      ],
      "metadata": {
        "colab": {
          "base_uri": "https://localhost:8080/"
        },
        "id": "HL9S9zPP3usv",
        "outputId": "d61e0c66-77c0-453d-bcc3-f0ec08dd8bd0"
      },
      "execution_count": null,
      "outputs": [
        {
          "output_type": "stream",
          "name": "stdout",
          "text": [
            "12\n"
          ]
        }
      ]
    },
    {
      "cell_type": "code",
      "source": [
        "zeros_array=np.zeros((2,3))"
      ],
      "metadata": {
        "id": "OyFsXC4X33i0"
      },
      "execution_count": null,
      "outputs": []
    },
    {
      "cell_type": "code",
      "source": [
        "ones_array =np.ones((3,2))"
      ],
      "metadata": {
        "id": "u3nd-VXK3-z0"
      },
      "execution_count": null,
      "outputs": []
    },
    {
      "cell_type": "code",
      "source": [
        "range_array=np.arange(1,10,2)"
      ],
      "metadata": {
        "id": "28baT5gw4ME0"
      },
      "execution_count": null,
      "outputs": []
    },
    {
      "cell_type": "code",
      "source": [
        "empty_array=np.empty((2,3))"
      ],
      "metadata": {
        "id": "-j7bJL6Z4XFk"
      },
      "execution_count": null,
      "outputs": []
    },
    {
      "cell_type": "code",
      "source": [],
      "metadata": {
        "id": "R8dEYYFp4dSY"
      },
      "execution_count": null,
      "outputs": []
    }
  ]
}