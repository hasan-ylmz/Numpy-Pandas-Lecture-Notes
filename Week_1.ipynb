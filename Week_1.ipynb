{
  "nbformat": 4,
  "nbformat_minor": 0,
  "metadata": {
    "colab": {
      "provenance": []
    },
    "kernelspec": {
      "name": "python3",
      "display_name": "Python 3"
    },
    "language_info": {
      "name": "python"
    }
  },
  "cells": [
    {
      "cell_type": "code",
      "execution_count": null,
      "metadata": {
        "id": "kccBXvk1fp9n"
      },
      "outputs": [],
      "source": [
        "import pandas as pd"
      ]
    },
    {
      "cell_type": "code",
      "source": [
        "data = {\n",
        "    'AD': [\"Ahmet\", \"Mehmet\" ,\"Ayşe\"],\n",
        "    'SOYAD': [\"Bahcecı\",\"Ayaz\",\"Ateş\"],\n",
        "    'NO': [444,233,442],\n",
        "}\n",
        "\n",
        "df.info();\n"
      ],
      "metadata": {
        "colab": {
          "base_uri": "https://localhost:8080/"
        },
        "id": "UOWlE5XDf7Ci",
        "outputId": "48158811-8984-4e06-9d5d-4abe7fbb61df"
      },
      "execution_count": null,
      "outputs": [
        {
          "output_type": "stream",
          "name": "stdout",
          "text": [
            "<class 'pandas.core.frame.DataFrame'>\n",
            "RangeIndex: 3 entries, 0 to 2\n",
            "Data columns (total 3 columns):\n",
            " #   Column  Non-Null Count  Dtype \n",
            "---  ------  --------------  ----- \n",
            " 0   AD      3 non-null      object\n",
            " 1   SOYAD   3 non-null      object\n",
            " 2   NO      3 non-null      int64 \n",
            "dtypes: int64(1), object(2)\n",
            "memory usage: 200.0+ bytes\n"
          ]
        }
      ]
    },
    {
      "cell_type": "code",
      "source": [
        "df['NO'] = df['NO'].astype(str)  # 'NO' sütununu string türüne dönüştür\n",
        "print('___ADD NEW COLUMNS___')\n",
        "df['YeniSutun'] = df['AD'] + '  '+ df['SOYAD']+'  ' +df['NO']\n",
        "\n",
        "print(df['YeniSutun'])\n"
      ],
      "metadata": {
        "colab": {
          "base_uri": "https://localhost:8080/"
        },
        "id": "cjuJFB7AnR-7",
        "outputId": "1e480919-b250-415a-fdf1-06bf3baa6b7a"
      },
      "execution_count": null,
      "outputs": [
        {
          "output_type": "stream",
          "name": "stdout",
          "text": [
            "___ADD NEW COLUMNS___\n",
            "0    Ahmet  Bahcecı  444\n",
            "1      Mehmet  Ayaz  233\n",
            "2        Ayşe  Ateş  442\n",
            "Name: YeniSutun, dtype: object\n"
          ]
        }
      ]
    }
  ]
}